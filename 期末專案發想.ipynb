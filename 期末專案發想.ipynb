{
 "cells": [
  {
   "cell_type": "markdown",
   "metadata": {},
   "source": [
    "喔喔喔緊接著就是期末專案了呢！到底要做甚麼好呢？\n",
    "恩……期末專案……\n",
    "期末專案很重要！！還有甚麼也是很重要的呢？\n",
    "### 大概是錢吧! 沒有錢萬萬不能啊!\n",
    "![moneyyyy](https://i.imgur.com/Ssns07U.jpg)"
   ]
  },
  {
   "cell_type": "markdown",
   "metadata": {},
   "source": [
    "不，但錢不是萬能的，也是有錢買不到的東西……\n",
    "### 像是女人! 痾，我是說能託付終身的另一半\n",
    "![girlll](https://i.imgur.com/7R9wP01.png)"
   ]
  },
  {
   "cell_type": "markdown",
   "metadata": {},
   "source": [
    "不對我在想甚麼，也可能是男的阿....\n",
    "不，這種感情的事情本來就不太好交給電腦吧，再想想看...\n",
    "...\n",
    "等等，答案不是一直都很明顯嗎?\n",
    "驀然回首，我用來表達上述東西的圖片...\n",
    "### 都是迷因(meme)啊!!!!\n",
    "沒錯，meme is life, meme is love，meme是這世界上最重要的東西了\n",
    "\n",
    "## 期末專案就做迷因圖判別器(Meme Discriminator)吧!!!\n",
    "\n",
    "*註:迷因(meme)的媒介非常多，語句、圖片、影片都可以形成迷因，迷因一但產生便會病毒性地擴散，產生大量的變體，因此迷因通常具備可塑性高與極為泛用等特徵。"
   ]
  },
  {
   "cell_type": "markdown",
   "metadata": {},
   "source": [
    "# 輸入\n",
    "\n",
    "既然是迷因圖判別器，輸入當然就是圖檔囉! 來源可以從9gag或是imgur等可以直接用meme作為tag來搜尋的網站，數量都有十萬筆以上。\n",
    "### 問題1:圖檔轉換\n",
    "彩色圖檔轉需要轉換成可以輸入的格式(像是矩陣)，這部分應該不難，網路上有多倒數不清的解法。\n",
    "### 問題2:規格統一\n",
    "根據我多年來迷因閱覽無數的經驗，大部分的迷因大小都差不多，但既然不是全部一樣就會有問題，可能需要在預處理的時候縮放並裁切好(但裁切同時可能會切到重要資訊)。\n",
    "### 問題3:取得大量資料\n",
    "恩我可能要學一下爬蟲。\n",
    "\n",
    "# 輸出\n",
    "\n",
    "輸出基本上沒太大問題，就是0(不是迷因)跟1(是迷因)，就是這麼簡單。\n",
    "\n",
    "(另外一個替代方案是在train的時候加入迷因的評價(藉由讚數等)，這樣的話它就搖身一變成為能夠評估一個迷因有多好的機器，不過我覺得這種主觀評價的不太好做，故捨棄此方案)"
   ]
  },
  {
   "cell_type": "markdown",
   "metadata": {},
   "source": [
    "## 所以我幹嘛需要迷因判別器?\n",
    "\n",
    "在這個網路世代，建立起網路聲量是很重要的，善用迷因的病毒式擴散的話簡直是輕而易舉。這個判別器與其說判斷圖片是不是迷因，倒不如說是能夠看出這張圖面有沒有成為迷因的潛力!! 網路的世界講究速度，若能早別人一步發現具有迷因潛力的素材並加以利用，就能利用迷因建立起大量的網路勢力!\n",
    "\n",
    "或者，你也可以挑出有迷因潛力的圖去PO，賺個讚數滿足慾望，這種小心願也是很棒的。"
   ]
  },
  {
   "cell_type": "markdown",
   "metadata": {},
   "source": [
    "最後，怕大家還是對迷因沒概念，下面隨便貼些雜圖(其實只是想貼圖)"
   ]
  },
  {
   "cell_type": "markdown",
   "metadata": {},
   "source": [
    "# 這些是迷因\n",
    "![girlll](https://img-9gag-fun.9cache.com/photo/a9KV9A6_700bwp.webp)![girlll](https://img-9gag-fun.9cache.com/photo/ayBzGXV_700bwp.webp)![girlll](https://img-9gag-fun.9cache.com/photo/aYYArnV_460swp.webp)![girlll](https://img-9gag-fun.9cache.com/photo/aQRrz9w_460swp.webp)![girlll](https://img-9gag-fun.9cache.com/photo/ayBzAeM_460swp.webp)!"
   ]
  },
  {
   "cell_type": "markdown",
   "metadata": {},
   "source": [
    "# 這些不是迷因\n",
    "![girlll](https://d2vkoy1na2a6o6.cloudfront.net/images/media/screenshots/zh-tw/ss1-med-f3ba9706f701eb02e0b300445fa2fc179eba96aef13aa7f7967e418bd32e85a08e199254ec62fd7726d4abe2b915b3539f96e107947dd0a262a0b442189ac09b.jpg)![girlll](https://i.imgur.com/F95YoUx.jpg)![girlll](https://scontent-hkg3-2.xx.fbcdn.net/v/t1.0-9/12046613_10206822850302333_1572195837159073472_n.jpg?_nc_cat=106&_nc_ht=scontent-hkg3-2.xx&oh=1f36d811399887e65eaa250e1b44f9b7&oe=5D30871A)![girlll](https://i.imgur.com/75qiFEO.png)![girlll](https://i.imgur.com/89IrNrZ.jpg)!"
   ]
  }
 ],
 "metadata": {
  "kernelspec": {
   "display_name": "Python 3",
   "language": "python",
   "name": "python3"
  },
  "language_info": {
   "codemirror_mode": {
    "name": "ipython",
    "version": 3
   },
   "file_extension": ".py",
   "mimetype": "text/x-python",
   "name": "python",
   "nbconvert_exporter": "python",
   "pygments_lexer": "ipython3",
   "version": "3.7.1"
  }
 },
 "nbformat": 4,
 "nbformat_minor": 2
}
