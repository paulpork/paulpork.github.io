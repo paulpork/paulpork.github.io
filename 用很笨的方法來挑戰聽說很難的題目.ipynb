{
 "cells": [
  {
   "cell_type": "markdown",
   "metadata": {},
   "source": [
    "# 前情提要\n",
    "前陣子在一門教文組用JAVA寫程式的課堂裡，出現了一題挑戰題，要我們在得到輸入的n之後，輸出一個類似螺旋向內的矩陣，形如：\n",
    "\n",
    "７　８　１　　　　　　１０　１１　１２　　１\n",
    "\n",
    "６　９　２　　或是　　　９　１６　１３　　２\n",
    "\n",
    "５　４　３　　　　　　　８　１５　１４　　３\n",
    "\n",
    "　　　　　　　　　　　　７　　６　　５　　４\n",
    "\n",
    "\n",
    "教授口口聲聲說著這個很難，網路上的解法用了四層的while什麼的....\n",
    "\n",
    "...\n",
    "\n",
    "可是我覺得不用啊？\n",
    "\n",
    "基於一種題目難度被跨大的憤慨(?)，我決定來實際解決他，用感覺很笨的方法。\n",
    "\n",
    "\n",
    "順帶一題，這種矩陣如果應用在讓畫面逐漸變黑的順序，就可以做出早期神奇寶貝遭遇戰的過場喔。(喔！！！！！)"
   ]
  },
  {
   "cell_type": "markdown",
   "metadata": {},
   "source": [
    "好，總之我們的計畫很簡單，用一台壓路機(X)編號機從左上角開始走，走到一定的距離(或是碰壁)就順時針轉彎，直到把所有編號用完。\n",
    "首先處理你想要產生多大的繞圈圈矩陣(對，它從現在開始叫這個名字了)"
   ]
  },
  {
   "cell_type": "code",
   "execution_count": 70,
   "metadata": {},
   "outputs": [
    {
     "name": "stdout",
     "output_type": "stream",
     "text": [
      "請問您今天想要多大的繞圈圈矩陣呢？\n",
      "我要：10\n"
     ]
    }
   ],
   "source": [
    "import numpy as np\n",
    "import pandas as pd\n",
    "\n",
    "print('請問您今天想要多大的繞圈圈矩陣呢？')\n",
    "mysize = int(input(\"我要：\"))\n",
    "\n",
    "field = np.zeros((mysize, mysize))"
   ]
  },
  {
   "cell_type": "markdown",
   "metadata": {},
   "source": [
    "(其實這根本用不到pandas，但我還是引入了，因為我覺得這樣很cool)\n",
    "\n",
    "接著我們來定義方向吧！把上下左右四個方向存在一個陣列裡面，順時針轉彎就是變成陣列下一個元素!\n",
    "另外還有表示目前位子的current_place以及編到第幾號的count。"
   ]
  },
  {
   "cell_type": "code",
   "execution_count": 71,
   "metadata": {},
   "outputs": [],
   "source": [
    "directions = {0:[1, 0], 1:[0, -1], 2:[-1, 0], 3:[0, 1]}\n",
    "current_direction = 0\n",
    "current_place = np.array([0, mysize-1])\n",
    "count = 1"
   ]
  },
  {
   "cell_type": "markdown",
   "metadata": {},
   "source": [
    "接著就能開始走囉!\n",
    "\n",
    "透過觀察得知，從左上角為起點，mysize為大小的話，我們前三次都會先走(mysize-1)的距離再轉彎，接著只會走(mysize-2)的距離就要轉彎，兩次後變成(mysize-3)，兩次後再減少...秉持著這個精神就可以寫出來了!!"
   ]
  },
  {
   "cell_type": "code",
   "execution_count": 72,
   "metadata": {},
   "outputs": [],
   "source": [
    "#先編號腳下這格\n",
    "field[current_place[0], current_place[1]] = count\n",
    "count = count + 1\n",
    "\n",
    "#走一步編一次號，先把第一條邊走完\n",
    "for i in range(0, mysize-1):\n",
    "    current_place = current_place + directions[current_direction]\n",
    "    field[current_place[0], current_place[1]] = count\n",
    "    count = count + 1\n",
    "    \n",
    "for i in range(0, mysize-1):\n",
    "    for L in range(0,2):\n",
    "        #轉彎\n",
    "        current_direction = (current_direction + 1) % 4    \n",
    "        for j in range(0, mysize-1-i):\n",
    "            #走一條\n",
    "            current_place = current_place + directions[current_direction]\n",
    "            field[current_place[0], current_place[1]] = count\n",
    "            count = count + 1\n",
    "            "
   ]
  },
  {
   "cell_type": "markdown",
   "metadata": {},
   "source": [
    "這樣就做完了！馬上來看看編號完的矩陣長甚麼樣子吧~"
   ]
  },
  {
   "cell_type": "code",
   "execution_count": 73,
   "metadata": {},
   "outputs": [
    {
     "name": "stdout",
     "output_type": "stream",
     "text": [
      "[[ 28.  29.  30.  31.  32.  33.  34.  35.  36.   1.]\n",
      " [ 27.  58.  59.  60.  61.  62.  63.  64.  37.   2.]\n",
      " [ 26.  57.  80.  81.  82.  83.  84.  65.  38.   3.]\n",
      " [ 25.  56.  79.  94.  95.  96.  85.  66.  39.   4.]\n",
      " [ 24.  55.  78.  93. 100.  97.  86.  67.  40.   5.]\n",
      " [ 23.  54.  77.  92.  99.  98.  87.  68.  41.   6.]\n",
      " [ 22.  53.  76.  91.  90.  89.  88.  69.  42.   7.]\n",
      " [ 21.  52.  75.  74.  73.  72.  71.  70.  43.   8.]\n",
      " [ 20.  51.  50.  49.  48.  47.  46.  45.  44.   9.]\n",
      " [ 19.  18.  17.  16.  15.  14.  13.  12.  11.  10.]]\n"
     ]
    }
   ],
   "source": [
    "print(field)"
   ]
  },
  {
   "cell_type": "markdown",
   "metadata": {},
   "source": [
    "是不是很好看呢~\n",
    "\n",
    "\n",
    "才怪，我忘了怎麼好看的輸出矩陣了= =\n",
    "\n",
    "不過無須氣餒，我們已經完成了這項創舉!!\n",
    "\n",
    "為了讓它更動感，我們還可以在每一次填完數字後都清掉一次輸出並再輸出新的矩陣，看到它實際在繞圈圈哦"
   ]
  },
  {
   "cell_type": "code",
   "execution_count": 74,
   "metadata": {
    "scrolled": true
   },
   "outputs": [
    {
     "name": "stdout",
     "output_type": "stream",
     "text": [
      "[[ 28.  29.  30.  31.  32.  33.  34.  35.  36.   1.]\n",
      " [ 27.  58.  59.  60.  61.  62.  63.  64.  37.   2.]\n",
      " [ 26.  57.  80.  81.  82.  83.  84.  65.  38.   3.]\n",
      " [ 25.  56.  79.  94.  95.  96.  85.  66.  39.   4.]\n",
      " [ 24.  55.  78.  93. 100.  97.  86.  67.  40.   5.]\n",
      " [ 23.  54.  77.  92.  99.  98.  87.  68.  41.   6.]\n",
      " [ 22.  53.  76.  91.  90.  89.  88.  69.  42.   7.]\n",
      " [ 21.  52.  75.  74.  73.  72.  71.  70.  43.   8.]\n",
      " [ 20.  51.  50.  49.  48.  47.  46.  45.  44.   9.]\n",
      " [ 19.  18.  17.  16.  15.  14.  13.  12.  11.  10.]]\n"
     ]
    }
   ],
   "source": [
    "from IPython.display import clear_output\n",
    "import time\n",
    "\n",
    "#初始化\n",
    "field = np.zeros((mysize, mysize))\n",
    "current_direction = 0\n",
    "current_place = np.array([0, mysize-1])\n",
    "count = 1\n",
    "\n",
    "print(field)\n",
    "#然後把上面的東東都複製下來\n",
    "\n",
    "#先編號腳下這格\n",
    "field[current_place[0], current_place[1]] = count\n",
    "count = count + 1\n",
    "\n",
    "clear_output(wait=True)\n",
    "print(field)\n",
    "time.sleep(0.1)\n",
    "\n",
    "#走一步編一次號，先把第一條邊走完\n",
    "for i in range(0, mysize-1):\n",
    "    current_place = current_place + directions[current_direction]\n",
    "    field[current_place[0], current_place[1]] = count\n",
    "    count = count + 1\n",
    "    \n",
    "    clear_output(wait=True)\n",
    "    print(field)\n",
    "    time.sleep(0.1)\n",
    "    \n",
    "for i in range(0, mysize-1):\n",
    "    for L in range(0,2):\n",
    "        #轉彎\n",
    "        current_direction = (current_direction + 1) % 4    \n",
    "        for j in range(0, mysize-1-i):\n",
    "            #走一條\n",
    "            current_place = current_place + directions[current_direction]\n",
    "            field[current_place[0], current_place[1]] = count\n",
    "            count = count + 1\n",
    "\n",
    "            clear_output(wait=True)\n",
    "            print(field)\n",
    "            time.sleep(0.1)\n",
    "            "
   ]
  },
  {
   "cell_type": "markdown",
   "metadata": {},
   "source": [
    "雖然看起來(實際也)很無用，不過看他這樣繞圈圈也是滿有趣的XDDDD\n",
    "如果應用這個編號當順序的話或許很適合拿來做螺旋的轉場也說不定?"
   ]
  }
 ],
 "metadata": {
  "kernelspec": {
   "display_name": "Python 3",
   "language": "python",
   "name": "python3"
  },
  "language_info": {
   "codemirror_mode": {
    "name": "ipython",
    "version": 3
   },
   "file_extension": ".py",
   "mimetype": "text/x-python",
   "name": "python",
   "nbconvert_exporter": "python",
   "pygments_lexer": "ipython3",
   "version": "3.7.1"
  }
 },
 "nbformat": 4,
 "nbformat_minor": 2
}
